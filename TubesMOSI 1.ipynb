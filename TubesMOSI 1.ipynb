{
  "nbformat": 4,
  "nbformat_minor": 0,
  "metadata": {
    "kernelspec": {
      "display_name": "Python 3",
      "language": "python",
      "name": "python3"
    },
    "language_info": {
      "codemirror_mode": {
        "name": "ipython",
        "version": 3
      },
      "file_extension": ".py",
      "mimetype": "text/x-python",
      "name": "python",
      "nbconvert_exporter": "python",
      "pygments_lexer": "ipython3",
      "version": "3.7.4"
    },
    "colab": {
      "name": "TubesMOSI.ipynb",
      "provenance": [],
      "collapsed_sections": []
    }
  },
  "cells": [
    {
      "cell_type": "code",
      "metadata": {
        "scrolled": true,
        "id": "s9xiEFT4ue68",
        "colab_type": "code",
        "outputId": "9db0c1df-4210-40ec-f565-e18aa2a8a605",
        "colab": {
          "base_uri": "https://localhost:8080/",
          "height": 315
        }
      },
      "source": [
        "import matplotlib.pyplot as plt\n",
        "import numpy as math\n",
        "\n",
        "def numerik(v,angle,dt,g) :\n",
        "    ax = 0\n",
        "    ay = -9.8\n",
        "    angle = math.pi /180 *angle\n",
        "    t = 0\n",
        "    x = 0\n",
        "    y = 0\n",
        "    y_maks = 0\n",
        "\n",
        "    vx = v * math.cos(angle)\n",
        "    vy = v * math.sin(angle)\n",
        "\n",
        "    arr_x = [x]\n",
        "    arr_y = [y]\n",
        "    while y >= 0 :\n",
        "        vx = vx + ax * dt\n",
        "        vy = vy + ay * dt\n",
        "\n",
        "        x = x + vx *dt\n",
        "        y = y + vy *dt\n",
        "        if (y > y_maks) :\n",
        "          y_maks = y\n",
        "        t = t + dt\n",
        "        \n",
        "        arr_x.append(x)\n",
        "        arr_y.append(y)\n",
        "    return arr_x, arr_y,t,y_maks\n",
        "        \n",
        "\n",
        "arr_x, arr_y , t,y_maks = numerik(50,35,0.01,9.8)\n",
        "plt.plot(arr_x,arr_y)\n",
        "print(\"t total numerikal = \" , t)\n",
        "print(\"jarak terjauh = \",arr_x[-1])\n",
        "print(\"titik tertinggi = \",y_maks)"
      ],
      "execution_count": 4,
      "outputs": [
        {
          "output_type": "stream",
          "text": [
            "t total numerikal =  5.84999999999992\n",
            "jarak terjauh =  239.6019729545325\n",
            "titik tertinggin =  41.81971970725295\n"
          ],
          "name": "stdout"
        },
        {
          "output_type": "display_data",
          "data": {
            "image/png": "[encoded data removed]",
            "text/plain": [
              "<Figure size 432x288 with 1 Axes>"
            ]
          },
          "metadata": {
            "tags": []
          }
        }
      ]
    },
    {
      "cell_type": "code",
      "metadata": {
        "id": "7qsC92yhue7D",
        "colab_type": "code",
        "outputId": "4d4ffc43-8892-4806-b31e-32cdc951d3ca",
        "colab": {
          "base_uri": "https://localhost:8080/",
          "height": 315
        }
      },
      "source": [
        "def numerikhambatanangin(v,angle,dt,g,d,m) :\n",
        "    \n",
        "    angle = math.pi /180 *angle\n",
        "    \n",
        "    vx = v * math.cos(angle)\n",
        "    vy = v * math.sin(angle)\n",
        "    \n",
        "    \n",
        "    ax = -(d/m)*v*vx\n",
        "    ay = -g-((d/m)*v*vy)\n",
        "    \n",
        "    v = math.sqrt((vx**2)+(vy**2))\n",
        "    \n",
        "    t = 0\n",
        "    x = 0\n",
        "    y = 0 \n",
        "    y_maks = 0\n",
        "    \n",
        "    arr_x = [x]\n",
        "    arr_y = [y]\n",
        "    while y >= 0 :\n",
        "        v = math.sqrt((vx**2)+(vy**2))\n",
        "        ax = -(d/m)*v*vx\n",
        "        ay = -g-((d/m)*v*vy)\n",
        "\n",
        "        vx = vx + ax * dt\n",
        "        vy = vy + ay * dt\n",
        "\n",
        "        x = x + vx *dt\n",
        "        y = y + vy *dt\n",
        "        if (y> y_maks):\n",
        "          y_maks = y\n",
        "        t = t + dt\n",
        "\n",
        "        \n",
        "        arr_x.append(x)\n",
        "        arr_y.append(y)\n",
        "    return arr_x, arr_y,t,y_maks\n",
        "\n",
        "arr_x, arr_y,t, y_maks = numerikhambatanangin(50, 35, 0.01, 9.8, 0.0013, 0.15)\n",
        "plt.plot(arr_x,arr_y)\n",
        "print(\"t maks numerikal hambatan udara = \" , t)\n",
        "print(\"jarak terjauh = \",arr_x[-1])\n",
        "print(\"titik tertinggi = \",y_maks)\n"
      ],
      "execution_count": 6,
      "outputs": [
        {
          "output_type": "stream",
          "text": [
            "t maks numerikal hambatan udara =  4.519999999999948\n",
            "jarak terjauh =  106.1391318995648\n",
            "titik tertinggi =  25.460895364730693\n"
          ],
          "name": "stdout"
        },
        {
          "output_type": "display_data",
          "data": {
            "image/png": "[encoded data removed]",
            "text/plain": [
              "<Figure size 432x288 with 1 Axes>"
            ]
          },
          "metadata": {
            "tags": []
          }
        }
      ]
    },
    {
      "cell_type": "code",
      "metadata": {
        "scrolled": true,
        "id": "mdDh1BShue7J",
        "colab_type": "code",
        "outputId": "d0474539-17b2-4d95-f65d-efe169bf337d",
        "colab": {
          "base_uri": "https://localhost:8080/",
          "height": 315
        }
      },
      "source": [
        "ax = 0\n",
        "ay = -9.8\n",
        "def analitik(v, angle, t):\n",
        "    angle = math.pi /180 *angle\n",
        "\n",
        "    Vx = v * math.cos(angle) * t\n",
        "    Vy = (v * math.sin(angle) * t) + (0.5 * ay * t**2)\n",
        "    \n",
        "    tmaks = 2 * (v *math.sin(angle))/ -ay\n",
        "    y_maks = (v**2)*math.sin(angle)**2/(-2*ay)\n",
        "\n",
        "    return Vx,Vy, tmaks,y_maks\n",
        "\n",
        "x, y, tmaks,y_maks = analitik(50, 35, 0.01)\n",
        "\n",
        "\n",
        "v =50\n",
        "arr_t = math.arange(0, tmaks, 0.01)\n",
        "x = v * math.cos(math.pi/180*35)* arr_t\n",
        "y = (v * math.sin(math.pi/180*35)* arr_t) + (0.5 * ay * arr_t**2)\n",
        "\n",
        "plt.plot(x,y)\n",
        "print(\"t total = \" , tmaks)\n",
        "print(\"jarak terjauh = \",x[-1])\n",
        "print(\"titik tertinggi = \",y_maks)\n"
      ],
      "execution_count": 17,
      "outputs": [
        {
          "output_type": "stream",
          "text": [
            "t total =  5.852820779092307\n",
            "jarak terjauh =  239.6019729545301\n",
            "titik tertinggi =  41.96300106341397\n"
          ],
          "name": "stdout"
        },
        {
          "output_type": "display_data",
          "data": {
            "image/png": "[encoded data removed]",
            "text/plain": [
              "<Figure size 432x288 with 1 Axes>"
            ]
          },
          "metadata": {
            "tags": []
          }
        }
      ]
    },
    {
      "cell_type": "code",
      "metadata": {
        "id": "kQ096kKMue7Q",
        "colab_type": "code",
        "outputId": "6d42fea1-7ada-4d39-d26c-f20a1fdcde08",
        "colab": {
          "base_uri": "https://localhost:8080/",
          "height": 382
        }
      },
      "source": [
        "ax = 0\n",
        "ay = -9.8\n",
        "def analitik2(v, angle, t):\n",
        "    angle = math.pi /180 *angle\n",
        "\n",
        "    Vx = v * math.cos(angle) * t\n",
        "    Vy = (v * math.sin(angle) * t) + (0.5 * ay * t**2)\n",
        "    \n",
        "    tmaks = 2 * (v *math.sin(angle))/ -ay\n",
        "    y_maks = (v**2)*math.sin(angle)**2/(-2*ay)\n",
        "\n",
        "    return Vx,Vy, tmaks,y_maks\n",
        "\n",
        "x, y, tmaks,y_maks = analitik2(50, 35, 0.01)\n",
        "\n",
        "\n",
        "v =50\n",
        "arr_t = math.arange(0, tmaks, 0.01)\n",
        "x = v * math.cos(math.pi/180*35)* arr_t\n",
        "y = (v * math.sin(math.pi/180*35)* arr_t) + (0.5 * ay * arr_t**2)\n",
        "\n",
        "plt.plot(x,y)\n",
        "print(\"t total analitik = \" , tmaks)\n",
        "print(\"jarak terjauh analitik = \",x[-1])\n",
        "print(\"titik tertinggi analitik = \",y_maks)\n",
        "\n",
        "\n",
        "\n",
        "def numerik(v,angle,dt,g) :\n",
        "    ax = 0\n",
        "    ay = -9.8\n",
        "    angle = math.pi /180 *angle\n",
        "    t = 0\n",
        "    x = 0\n",
        "    y = 0\n",
        "    y_maks = 0\n",
        "\n",
        "    vx = v * math.cos(angle)\n",
        "    vy = v * math.sin(angle)\n",
        "\n",
        "    arr_x = [x]\n",
        "    arr_y = [y]\n",
        "    while y >= 0 :\n",
        "        vx = vx + ax * dt\n",
        "        vy = vy + ay * dt\n",
        "\n",
        "        x = x + vx *dt\n",
        "        y = y + vy *dt\n",
        "        if (y > y_maks) :\n",
        "          y_maks = y\n",
        "        t = t + dt\n",
        "        \n",
        "        arr_x.append(x)\n",
        "        arr_y.append(y)\n",
        "    return arr_x, arr_y,t,y_maks\n",
        "        \n",
        "\n",
        "arr_x, arr_y , t,y_maks = numerik(50,35,0.01,9.8)\n",
        "plt.plot(arr_x,arr_y)\n",
        "print(\" \")\n",
        "print(\"t total numerikal = \" , t)\n",
        "print(\"jarak terjauh numerikal = \",arr_x[-1])\n",
        "print(\"titik tertinggi numerikal = \",y_maks)"
      ],
      "execution_count": 21,
      "outputs": [
        {
          "output_type": "stream",
          "text": [
            "t total analitik =  5.852820779092307\n",
            "jarak terjauh analitik =  239.6019729545301\n",
            "titik tertinggi analitik =  41.96300106341397\n",
            " \n",
            "t total numerikal =  5.84999999999992\n",
            "jarak terjauh numerikal =  239.6019729545325\n",
            "titik tertinggi numerikal =  41.81971970725295\n"
          ],
          "name": "stdout"
        },
        {
          "output_type": "display_data",
          "data": {
            "image/png": "[encoded data removed]",
            "text/plain": [
              "<Figure size 432x288 with 1 Axes>"
            ]
          },
          "metadata": {
            "tags": []
          }
        }
      ]
    },
    {
      "cell_type": "code",
      "metadata": {
        "id": "ZKmJfSyvue7V",
        "colab_type": "code",
        "outputId": "8417e95e-54c2-4d70-d57c-ee1277e2ed1b",
        "colab": {
          "base_uri": "https://localhost:8080/",
          "height": 415
        }
      },
      "source": [
        "def numerik(v,angle,dt,g) :\n",
        "    ax = 0\n",
        "    ay = -9.8\n",
        "    angle = math.pi /180 *angle\n",
        "    t = 0\n",
        "    x = 0\n",
        "    y = 0\n",
        "    y_maks = 0\n",
        "\n",
        "    vx = v * math.cos(angle)\n",
        "    vy = v * math.sin(angle)\n",
        "\n",
        "    arr_x = [x]\n",
        "    arr_y = [y]\n",
        "    while y >= 0 :\n",
        "        vx = vx + ax * dt\n",
        "        vy = vy + ay * dt\n",
        "\n",
        "        x = x + vx *dt\n",
        "        y = y + vy *dt\n",
        "        if (y > y_maks) :\n",
        "          y_maks = y\n",
        "        t = t + dt\n",
        "        \n",
        "        arr_x.append(x)\n",
        "        arr_y.append(y)\n",
        "    return arr_x, arr_y,t,y_maks\n",
        "        \n",
        "\n",
        "arr_x, arr_y , t,y_maks = numerik(50,35,0.01,9.8)\n",
        "plt.plot(arr_x,arr_y,label ='tanpa hambatan udara')\n",
        "print(\"tanpa hambatan udara\")\n",
        "print(\"t total numerikal = \" , t)\n",
        "print(\"jarak terjauh = \",arr_x[-1])\n",
        "print(\"titik tertinggi = \",y_maks)\n",
        "\n",
        "def numerikhambatanangin(v,angle,dt,g,d,m) :\n",
        "    \n",
        "    angle = math.pi /180 *angle\n",
        "    \n",
        "    vx = v * math.cos(angle)\n",
        "    vy = v * math.sin(angle)\n",
        "    \n",
        "    \n",
        "    ax = -(d/m)*v*vx\n",
        "    ay = -g-((d/m)*v*vy)\n",
        "    \n",
        "    v = math.sqrt((vx**2)+(vy**2))\n",
        "    \n",
        "    t = 0\n",
        "    x = 0\n",
        "    y = 0 \n",
        "    y_maks = 0\n",
        "    \n",
        "    arr_x = [x]\n",
        "    arr_y = [y]\n",
        "    while y >= 0 :\n",
        "        v = math.sqrt((vx**2)+(vy**2))\n",
        "        ax = -(d/m)*v*vx\n",
        "        ay = -g-((d/m)*v*vy)\n",
        "\n",
        "        vx = vx + ax * dt\n",
        "        vy = vy + ay * dt\n",
        "\n",
        "        x = x + vx *dt\n",
        "        y = y + vy *dt\n",
        "        if (y> y_maks):\n",
        "          y_maks = y\n",
        "        t = t + dt\n",
        "\n",
        "        \n",
        "        arr_x.append(x)\n",
        "        arr_y.append(y)\n",
        "    return arr_x, arr_y,t,y_maks\n",
        "\n",
        "arr_x, arr_y,t, y_maks = numerikhambatanangin(50, 35, 0.01, 9.8, 0.0013, 0.15)\n",
        "plt.plot(arr_x,arr_y)\n",
        "print(\" \")\n",
        "print(\"hambatan udara\")\n",
        "print(\"t maks numerikal hambatan udara = \" , t)\n",
        "print(\"jarak terjauh = \",arr_x[-1])\n",
        "print(\"titik tertinggi = \",y_maks)\n"
      ],
      "execution_count": 25,
      "outputs": [
        {
          "output_type": "stream",
          "text": [
            "tanpa hambatan udara\n",
            "t total numerikal =  5.84999999999992\n",
            "jarak terjauh =  239.6019729545325\n",
            "titik tertinggi =  41.81971970725295\n",
            " \n",
            "hambatan udara\n",
            "t maks numerikal hambatan udara =  4.519999999999948\n",
            "jarak terjauh =  106.1391318995648\n",
            "titik tertinggi =  25.460895364730693\n"
          ],
          "name": "stdout"
        },
        {
          "output_type": "display_data",
          "data": {
            "image/png": "[encoded data removed]",
            "text/plain": [
              "<Figure size 432x288 with 1 Axes>"
            ]
          },
          "metadata": {
            "tags": []
          }
        }
      ]
    },
    {
      "cell_type": "code",
      "metadata": {
        "id": "hTV5ZgHsue7b",
        "colab_type": "code",
        "colab": {}
      },
      "source": [
        ""
      ],
      "execution_count": 0,
      "outputs": []
    }
  ]
}